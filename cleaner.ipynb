{
 "cells": [
  {
   "attachments": {},
   "cell_type": "markdown",
   "metadata": {},
   "source": [
    "# Still working on..."
   ]
  },
  {
   "cell_type": "code",
   "execution_count": 1,
   "metadata": {},
   "outputs": [
    {
     "data": {
      "text/plain": [
       "\"\\ndef _clean_text(text, cleaner_names):\\n  for name in cleaner_names:\\n    #cleaner = getattr(cleaners, name)\\n    #if not cleaner:\\n    #  raise Exception('Unknown cleaner: %s' % name)\\n    #text = cleaner(text)\\n    \\n    # call function by string: name\\n    # text = eval(name+'()')(text)\\n    # Get the function from the global namespace\\n        cleaner = globals().get(name)\\n        \\n        # Check if the cleaner function exists\\n        if cleaner is None:\\n            raise Exception('Unknown cleaner: %s' % name)\\n        \\n        # Call the cleaner function with the text argument \\n        text = cleaner(text)   ####################### Call Cleaner here. ##############################\\n  return text\\n\""
      ]
     },
     "execution_count": 1,
     "metadata": {},
     "output_type": "execute_result"
    }
   ],
   "source": [
    "###################################Code in datset that called cleaner###################################\n",
    "\"\"\"\n",
    "def _clean_text(text, cleaner_names):\n",
    "  for name in cleaner_names:\n",
    "    #cleaner = getattr(cleaners, name)\n",
    "    #if not cleaner:\n",
    "    #  raise Exception('Unknown cleaner: %s' % name)\n",
    "    #text = cleaner(text)\n",
    "    \n",
    "    # call function by string: name\n",
    "    # text = eval(name+'()')(text)\n",
    "    # Get the function from the global namespace\n",
    "        cleaner = globals().get(name)\n",
    "        \n",
    "        # Check if the cleaner function exists\n",
    "        if cleaner is None:\n",
    "            raise Exception('Unknown cleaner: %s' % name)\n",
    "        \n",
    "        # Call the cleaner function with the text argument \n",
    "        text = cleaner(text)   ####################### Call Cleaner here. ##############################\n",
    "  return text\n",
    "\"\"\""
   ]
  },
  {
   "cell_type": "code",
   "execution_count": 3,
   "metadata": {},
   "outputs": [
    {
     "name": "stdout",
     "output_type": "stream",
     "text": [
      "expand_abbreviations(text)\n",
      "text = \"Mr. Smith went to St. John's, in Washington.\"\n",
      "mister Smith went to saint John's, in Washington.\n",
      "----------------------------------------\n",
      "lowercase(text)\n",
      "text = \"Mr. Smith went to St. John's, in Washington.\"\n",
      "mr. smith went to st. john's, in washington.\n",
      "----------------------------------------\n",
      "collapse_whitespace(text)\n",
      "text = \"Mr.                   Smith went to St. John's, in Washington.\"\n",
      "Mr. Smith went to St. John's, in Washington.\n",
      "----------------------------------------\n",
      "convert_to_ascii(text)\n",
      "text = \"Mr. Smith went to St. John's, in 北京.\"\n",
      "Mr. Smith went to St. John's, in Bei Jing .\n",
      "----------------------------------------\n"
     ]
    }
   ],
   "source": [
    "###################################Import necessary libraries###################################\n",
    "import re\n",
    "from unidecode import unidecode\n",
    "from phonemizer import phonemize\n",
    "###################################Define abbreviation list###################################\n",
    "_whitespace_re = re.compile(r'\\s+')\n",
    "\n",
    "# List of (regular expression, replacement) pairs for abbreviations:\n",
    "_abbreviations = [(re.compile('\\\\b%s\\\\.' % x[0], re.IGNORECASE), x[1]) for x in [\n",
    "  ('mrs', 'misess'),\n",
    "  ('mr', 'mister'),\n",
    "  ('dr', 'doctor'),\n",
    "  ('st', 'saint'),\n",
    "  ('co', 'company'),\n",
    "  ('jr', 'junior'),\n",
    "  ('maj', 'major'),\n",
    "  ('gen', 'general'),\n",
    "  ('drs', 'doctors'),\n",
    "  ('rev', 'reverend'),\n",
    "  ('lt', 'lieutenant'),\n",
    "  ('hon', 'honorable'),\n",
    "  ('sgt', 'sergeant'),\n",
    "  ('capt', 'captain'),\n",
    "  ('esq', 'esquire'),\n",
    "  ('ltd', 'limited'),\n",
    "  ('col', 'colonel'),\n",
    "  ('ft', 'fort'),\n",
    "]]\n",
    "\n",
    "###################################expand_abbreviations(text)###################################\n",
    "def expand_abbreviations(text):\n",
    "  for regex, replacement in _abbreviations:\n",
    "    text = re.sub(regex, replacement, text)\n",
    "  return text\n",
    "print('expand_abbreviations(text)')\n",
    "text = \"Mr. Smith went to St. John's, in Washington.\"\n",
    "print('text = \"Mr. Smith went to St. John\\'s, in Washington.\"')\n",
    "print(expand_abbreviations(text))\n",
    "print('----------------------------------------')\n",
    "###################################lowercase(text)###################################\n",
    "def lowercase(text):\n",
    "  return text.lower()\n",
    "text = \"Mr. Smith went to St. John's, in Washington.\"\n",
    "print('lowercase(text)')\n",
    "print('text = \"Mr. Smith went to St. John\\'s, in Washington.\"')\n",
    "print(lowercase(text))\n",
    "print('----------------------------------------')\n",
    "###################################collapse_whitespace(text)###################################\n",
    "def collapse_whitespace(text):\n",
    "  return re.sub(_whitespace_re, ' ', text)\n",
    "print('collapse_whitespace(text)')\n",
    "print('text = \"Mr.                   Smith went to St. John\\'s, in Washington.\"')\n",
    "text = \"Mr.                   Smith went to St. John's, in Washington.\"\n",
    "print(collapse_whitespace(text))\n",
    "print('----------------------------------------')\n",
    "\n",
    "###################################convert_to_ascii(text)###################################\n",
    "def convert_to_ascii(text):\n",
    "  return unidecode(text)\n",
    "print('convert_to_ascii(text)')\n",
    "print('text = \"Mr. Smith went to St. John\\'s, in 北京.\"')\n",
    "text = \"Mr. Smith went to St. John's, in 北京.\"\n",
    "print(convert_to_ascii(text))\n",
    "print('----------------------------------------')"
   ]
  },
  {
   "cell_type": "code",
   "execution_count": null,
   "metadata": {},
   "outputs": [],
   "source": []
  }
 ],
 "metadata": {
  "kernelspec": {
   "display_name": "pytorch",
   "language": "python",
   "name": "python3"
  },
  "language_info": {
   "codemirror_mode": {
    "name": "ipython",
    "version": 3
   },
   "file_extension": ".py",
   "mimetype": "text/x-python",
   "name": "python",
   "nbconvert_exporter": "python",
   "pygments_lexer": "ipython3",
   "version": "3.8.16"
  },
  "orig_nbformat": 4
 },
 "nbformat": 4,
 "nbformat_minor": 2
}
